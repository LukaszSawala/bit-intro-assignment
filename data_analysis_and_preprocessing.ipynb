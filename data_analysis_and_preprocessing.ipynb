{
 "cells": [
  {
   "cell_type": "code",
   "execution_count": 18,
   "id": "8ed6b55c",
   "metadata": {},
   "outputs": [],
   "source": [
    "import pandas as pd\n",
    "import numpy as np\n",
    "import matplotlib.pyplot as plt"
   ]
  },
  {
   "cell_type": "code",
   "execution_count": 19,
   "id": "a55746ff",
   "metadata": {},
   "outputs": [],
   "source": [
    "def load_data(file_path: str) -> pd.DataFrame:\n",
    "    data = pd.read_csv(file_path, index_col=0)\n",
    "    return data"
   ]
  },
  {
   "cell_type": "code",
   "execution_count": 20,
   "id": "19369528",
   "metadata": {},
   "outputs": [
    {
     "name": "stderr",
     "output_type": "stream",
     "text": [
      "/var/folders/pj/kpd4vj4j6_b_l77b3ry75hp40000gn/T/ipykernel_42572/1564244761.py:2: DtypeWarning: Columns (14,40,41,42) have mixed types. Specify dtype option on import or set low_memory=False.\n",
      "  data = pd.read_csv(file_path, index_col=0)\n"
     ]
    },
    {
     "name": "stdout",
     "output_type": "stream",
     "text": [
      "(412698, 51)\n"
     ]
    }
   ],
   "source": [
    "raw_data = load_data('data/raw/BIT_AI_assignment_data.csv')\n",
    "raw_data = raw_data.drop(columns=['Machine ID', 'Sales ID'])\n",
    "print(raw_data.shape)"
   ]
  },
  {
   "cell_type": "code",
   "execution_count": 21,
   "id": "899d0636",
   "metadata": {},
   "outputs": [
    {
     "name": "stdout",
     "output_type": "stream",
     "text": [
      "   Sales Price  Model ID  datasource  Auctioneer ID  Year Made  \\\n",
      "0      66000.0      3157         121            3.0       2004   \n",
      "1      57000.0        77         121            3.0       1996   \n",
      "2      10000.0      7009         121            3.0       2001   \n",
      "3      38500.0       332         121            3.0       2001   \n",
      "4      11000.0     17311         121            3.0       2007   \n",
      "\n",
      "   MachineHours CurrentMeter Usage Band       Sales date Model Description  \\\n",
      "0                       68.0        Low  11/16/2006 0:00              521D   \n",
      "1                     4640.0        Low   3/26/2004 0:00            950FII   \n",
      "2                     2838.0       High   2/26/2004 0:00               226   \n",
      "3                     3486.0       High   5/19/2011 0:00          PC120-6E   \n",
      "4                      722.0     Medium   7/23/2009 0:00              S175   \n",
      "\n",
      "  Base Model  ... Screen Size.1 Stick Length Thumb Pattern Changer  \\\n",
      "0        521  ...           NaN          NaN   NaN             NaN   \n",
      "1        950  ...           NaN          NaN   NaN             NaN   \n",
      "2        226  ...           NaN          NaN   NaN             NaN   \n",
      "3      PC120  ...           NaN          NaN   NaN             NaN   \n",
      "4       S175  ...           NaN          NaN   NaN             NaN   \n",
      "\n",
      "  Grouser Type Backhoe Mounting Blade Type Travel Possibilities  \\\n",
      "0          NaN              NaN        NaN                  NaN   \n",
      "1          NaN              NaN        NaN                  NaN   \n",
      "2          NaN              NaN        NaN                  NaN   \n",
      "3          NaN              NaN        NaN                  NaN   \n",
      "4          NaN              NaN        NaN                  NaN   \n",
      "\n",
      "  Differential Type Steering Controls  \n",
      "0          Standard      Conventional  \n",
      "1          Standard      Conventional  \n",
      "2               NaN               NaN  \n",
      "3               NaN               NaN  \n",
      "4               NaN               NaN  \n",
      "\n",
      "[5 rows x 51 columns]\n"
     ]
    }
   ],
   "source": [
    "print(raw_data.head())"
   ]
  },
  {
   "cell_type": "code",
   "execution_count": 22,
   "id": "d054c511",
   "metadata": {},
   "outputs": [
    {
     "name": "stdout",
     "output_type": "stream",
     "text": [
      "Variable names: ['Sales Price', 'Model ID', 'datasource', 'Auctioneer ID', 'Year Made', 'MachineHours CurrentMeter', 'Usage Band', 'Sales date', 'Model Description', 'Base Model', 'Secondary Description', 'Model Series', 'Model Descriptor', 'Machine Size', 'Product Class Description', 'State of Usage', 'Product Group', 'Product Group Description', 'Driver System', 'Enclosure', 'Control', 'Touchpad Type', 'Control Type', 'Version', 'Transmission', 'Turbo Charged', 'Extra features', 'Machine Width', 'Clean Room', 'Engine Horsepower', 'Hydraulics', 'Push Block', 'Ripper', 'Scarifier', 'Tip Control', 'Screen Size', 'Coupler', 'Couple System', 'Grouser Tracks', 'Hydraulics Flow', 'Tupper Type', 'Screen Size.1', 'Stick Length', 'Thumb', 'Pattern Changer', 'Grouser Type', 'Backhoe Mounting', 'Blade Type', 'Travel Possibilities', 'Differential Type', 'Steering Controls']\n"
     ]
    }
   ],
   "source": [
    "print(\"Variable names:\", raw_data.columns.tolist())"
   ]
  },
  {
   "cell_type": "code",
   "execution_count": 23,
   "id": "d14aab98",
   "metadata": {},
   "outputs": [
    {
     "name": "stdout",
     "output_type": "stream",
     "text": [
      "Total missing values in dataset (%): 0.5662276046891431\n",
      "Number of columns with missing values: 40\n",
      "Names of columns without missing values: ['Sales Price', 'Model ID', 'datasource', 'Year Made', 'Sales date', 'Model Description', 'Base Model', 'Product Class Description', 'State of Usage', 'Product Group', 'Product Group Description']\n",
      "Missing values per column (ranked) (%):\n",
      " Push Block                   0.937041\n",
      "Extra features               0.937041\n",
      "Tip Control                  0.937041\n",
      "Engine Horsepower            0.937041\n",
      "Clean Room                   0.937041\n",
      "Machine Width                0.937041\n",
      "Scarifier                    0.937014\n",
      "Hydraulics Flow              0.891264\n",
      "Grouser Tracks               0.891264\n",
      "Couple System                0.891024\n",
      "Model Series                 0.857845\n",
      "Steering Controls            0.826697\n",
      "Differential Type            0.826595\n",
      "Usage Band                   0.821492\n",
      "Model Descriptor             0.818715\n",
      "Backhoe Mounting             0.804428\n",
      "Version                      0.803498\n",
      "Touchpad Type                0.803498\n",
      "Turbo Charged                0.803498\n",
      "Blade Type                   0.801610\n",
      "Travel Possibilities         0.801606\n",
      "Screen Size                  0.763415\n",
      "Grouser Type                 0.752378\n",
      "Tupper Type                  0.752378\n",
      "Stick Length                 0.752213\n",
      "Pattern Changer              0.752213\n",
      "Thumb                        0.752041\n",
      "Screen Size.1                0.750626\n",
      "Ripper                       0.740864\n",
      "Driver System                0.740520\n",
      "MachineHours CurrentMeter    0.642586\n",
      "Control Type                 0.629928\n",
      "Transmission                 0.544444\n",
      "Machine Size                 0.524851\n",
      "Control                      0.520921\n",
      "Coupler                      0.465277\n",
      "Secondary Description        0.340993\n",
      "Hydraulics                   0.200062\n",
      "Auctioneer ID                0.048791\n",
      "Enclosure                    0.000809\n",
      "dtype: float64\n"
     ]
    }
   ],
   "source": [
    "total_missing_values = raw_data.isnull().sum().sum()\n",
    "print(\"Total missing values in dataset (%):\", total_missing_values / (raw_data.shape[0] * raw_data.shape[1]))\n",
    "print(\"Number of columns with missing values:\", raw_data.isnull().any().sum())\n",
    "print(\"Names of columns without missing values:\", raw_data.columns[raw_data.isnull().sum() == 0].tolist())\n",
    "null_values_percentages = raw_data.isnull().sum()/412698 \n",
    "null_values_nonzero = null_values_percentages[null_values_percentages > 0]\n",
    "print(\"Missing values per column (ranked) (%):\\n\", null_values_nonzero.sort_values(ascending=False))"
   ]
  },
  {
   "cell_type": "code",
   "execution_count": 24,
   "id": "2902c371",
   "metadata": {},
   "outputs": [
    {
     "name": "stdout",
     "output_type": "stream",
     "text": [
      "Number of categorial variables: 45\n",
      "Number of numerical variables: 6\n",
      "Rest 0\n"
     ]
    }
   ],
   "source": [
    "categorical = raw_data.select_dtypes(include=['object']).shape[1]\n",
    "numerical = raw_data.select_dtypes(include=[np.number]).shape[1]\n",
    "print(\"Number of categorial variables:\", categorical)\n",
    "print(\"Number of numerical variables:\", numerical)\n",
    "print(\"Rest\", raw_data.shape[1] - categorical - numerical)"
   ]
  },
  {
   "cell_type": "code",
   "execution_count": 25,
   "id": "eeec5b43",
   "metadata": {},
   "outputs": [
    {
     "name": "stdout",
     "output_type": "stream",
     "text": [
      "                              count          mean           std     min  \\\n",
      "Sales Price                412698.0  31215.181414  23141.743695  4750.0   \n",
      "Model ID                   412698.0   6947.201828   6280.824982    28.0   \n",
      "datasource                 412698.0    135.169361      9.646749   121.0   \n",
      "Auctioneer ID              392562.0      6.585268     17.158409     0.0   \n",
      "Year Made                  412698.0   1899.049637    292.190243  1000.0   \n",
      "MachineHours CurrentMeter  147504.0   3522.988285  27169.928650     0.0   \n",
      "\n",
      "                               25%      50%      75%        max  \n",
      "Sales Price                14500.0  24000.0  40000.0   142000.0  \n",
      "Model ID                    3261.0   4605.0   8899.0    37198.0  \n",
      "datasource                   132.0    132.0    136.0      173.0  \n",
      "Auctioneer ID                  1.0      2.0      4.0       99.0  \n",
      "Year Made                   1985.0   1995.0   2001.0     2014.0  \n",
      "MachineHours CurrentMeter      0.0      0.0   3209.0  2483300.0  \n"
     ]
    }
   ],
   "source": [
    "# Compute statistics per variable\n",
    "stats = raw_data.describe().T\n",
    "print(stats)"
   ]
  },
  {
   "cell_type": "code",
   "execution_count": 26,
   "id": "a0a82004",
   "metadata": {},
   "outputs": [
    {
     "name": "stdout",
     "output_type": "stream",
     "text": [
      "Variables with zero standard deviation (to remove): []\n",
      "Variables with a single unique value (to remove): []\n",
      "Variables with unique values count:\n",
      " Turbo Charged                    2\n",
      "Control                          2\n",
      "Extra features                   2\n",
      "Engine Horsepower                2\n",
      "Push Block                       2\n",
      "Scarifier                        2\n",
      "Couple System                    2\n",
      "Grouser Tracks                   2\n",
      "Version                          2\n",
      "Tupper Type                      2\n",
      "Backhoe Mounting                 2\n",
      "Usage Band                       3\n",
      "Coupler                          3\n",
      "Control Type                     3\n",
      "Thumb                            3\n",
      "Pattern Changer                  3\n",
      "Clean Room                       3\n",
      "Grouser Type                     3\n",
      "Hydraulics Flow                  3\n",
      "Tip Control                      3\n",
      "Ripper                           4\n",
      "Driver System                    4\n",
      "Differential Type                4\n",
      "Touchpad Type                    4\n",
      "Steering Controls                5\n",
      "Enclosure                        6\n",
      "Product Group Description        6\n",
      "Machine Width                    6\n",
      "Product Group                    6\n",
      "Machine Size                     6\n",
      "datasource                       6\n",
      "Travel Possibilities             7\n",
      "Transmission                     8\n",
      "Blade Type                      10\n",
      "Hydraulics                      12\n",
      "Screen Size                     17\n",
      "Screen Size.1                   19\n",
      "Stick Length                    29\n",
      "Auctioneer ID                   30\n",
      "State of Usage                  53\n",
      "Year Made                       73\n",
      "Product Class Description       74\n",
      "Model Series                   126\n",
      "Model Descriptor               137\n",
      "Secondary Description          177\n",
      "Sales Price                    954\n",
      "Base Model                    1961\n",
      "Sales date                    4013\n",
      "Model Description             5059\n",
      "Model ID                      5281\n",
      "MachineHours CurrentMeter    15633\n",
      "dtype: int64\n",
      "Total columns to consider removing: []\n"
     ]
    }
   ],
   "source": [
    "to_remove_std = stats[stats['std'] == 0].index.tolist()\n",
    "print(\"Variables with zero standard deviation (to remove):\", to_remove_std)\n",
    "\n",
    "\n",
    "nunique_counts = raw_data.nunique()\n",
    "to_remove_unique = nunique_counts[nunique_counts == 1].index.tolist()\n",
    "print(\"Variables with a single unique value (to remove):\", to_remove_unique)\n",
    "print(\"Variables with unique values count:\\n\", nunique_counts.sort_values())\n",
    "\n",
    "# based on the frequencies, remove both IDs:\n",
    "# to_remove_unique += ['Machine ID', 'Sales ID'] (removed above)\n",
    "\n",
    "to_remove = list(set(to_remove_std + to_remove_unique))\n",
    "print(\"Total columns to consider removing:\", to_remove)"
   ]
  },
  {
   "cell_type": "code",
   "execution_count": 27,
   "id": "a0ab991c",
   "metadata": {},
   "outputs": [
    {
     "name": "stdout",
     "output_type": "stream",
     "text": [
      "1000 2014\n"
     ]
    }
   ],
   "source": [
    "print(min(raw_data['Year Made']), max(raw_data['Year Made']))"
   ]
  },
  {
   "cell_type": "code",
   "execution_count": 28,
   "id": "d489fa1f",
   "metadata": {},
   "outputs": [
    {
     "data": {
      "text/plain": [
       "Text(0, 0.5, 'Number of Vehicles')"
      ]
     },
     "execution_count": 28,
     "metadata": {},
     "output_type": "execute_result"
    },
    {
     "data": {
      "image/png": "[encoded data removed]",
      "text/plain": [
       "<Figure size 640x480 with 1 Axes>"
      ]
     },
     "metadata": {},
     "output_type": "display_data"
    }
   ],
   "source": [
    "# make a histogram for years\n",
    "plt.hist(raw_data['Year Made'], edgecolor='black')\n",
    "plt.title('Distribution of Vehicles by Year')\n",
    "plt.xlabel('Year')\n",
    "plt.ylabel('Number of Vehicles')"
   ]
  }
 ],
 "metadata": {
  "kernelspec": {
   "display_name": ".venv",
   "language": "python",
   "name": "python3"
  },
  "language_info": {
   "codemirror_mode": {
    "name": "ipython",
    "version": 3
   },
   "file_extension": ".py",
   "mimetype": "text/x-python",
   "name": "python",
   "nbconvert_exporter": "python",
   "pygments_lexer": "ipython3",
   "version": "3.12.11"
  }
 },
 "nbformat": 4,
 "nbformat_minor": 5
}
