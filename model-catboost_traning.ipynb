{
 "cells": [
  {
   "cell_type": "code",
   "execution_count": 1,
   "id": "a8f759c7",
   "metadata": {},
   "outputs": [],
   "source": [
    "import pandas as pd\n",
    "import numpy as np\n",
    "from catboost import CatBoostRegressor\n",
    "from sklearn.model_selection import train_test_split\n",
    "from sklearn.metrics import mean_absolute_error\n",
    "import matplotlib.pyplot as plt\n",
    "import seaborn as sns"
   ]
  },
  {
   "cell_type": "code",
   "execution_count": 2,
   "id": "8e912e93",
   "metadata": {},
   "outputs": [
    {
     "name": "stdout",
     "output_type": "stream",
     "text": [
      "Identified 37 categorical features.\n"
     ]
    }
   ],
   "source": [
    "# Load the dataset and preprocess\n",
    "df = pd.read_csv(\"data/processed/processed_v1.csv\", low_memory=False)\n",
    "for col in df.columns:\n",
    "        if df[col].dtype == 'object':\n",
    "            df[col] = df[col].fillna(\"Missing\").astype(str)             # Fill NaNs with the string \"Missing\" (required for CatBoost)\n",
    "\n",
    "X = df.drop('Sales Price', axis=1)\n",
    "y = df['Sales Price']\n",
    "\n",
    "# Store categorical features\n",
    "cat_features = X.select_dtypes(include=['object']).columns.tolist()\n",
    "print(f\"Identified {len(cat_features)} categorical features.\")"
   ]
  },
  {
   "cell_type": "code",
   "execution_count": 3,
   "id": "329deb67",
   "metadata": {},
   "outputs": [
    {
     "name": "stdout",
     "output_type": "stream",
     "text": [
      "Data successfully loaded and split.\n",
      "Total shape:    (412698, 44)\n",
      "Train shape:    (315713, 44)\n",
      "Validate shape: (55715, 44)\n",
      "Test shape:     (41270, 44)\n"
     ]
    }
   ],
   "source": [
    "# Split data\n",
    "X_train_val, X_test, y_train_val, y_test = train_test_split(\n",
    "    X, y, test_size=0.1, random_state=42\n",
    ")\n",
    "\n",
    "X_train, X_val, y_train, y_val = train_test_split(\n",
    "    X_train_val, y_train_val, test_size=0.15, random_state=42 \n",
    ")\n",
    "\n",
    "print(\"Data successfully loaded and split.\")\n",
    "print(f\"Total shape:    {X.shape}\")\n",
    "print(f\"Train shape:    {X_train.shape}\")\n",
    "print(f\"Validate shape: {X_val.shape}\")\n",
    "print(f\"Test shape:     {X_test.shape}\")"
   ]
  },
  {
   "cell_type": "code",
   "execution_count": null,
   "id": "07c0d720",
   "metadata": {},
   "outputs": [
    {
     "name": "stdout",
     "output_type": "stream",
     "text": [
      "0:\tlearn: 0.5603666\ttest: 0.5577485\tbest: 0.5577485 (0)\ttotal: 755ms\tremaining: 37m 44s\n"
     ]
    }
   ],
   "source": [
    "# Create and train the model\n",
    "model = CatBoostRegressor(\n",
    "    iterations=3000,          \n",
    "    learning_rate=0.03,\n",
    "    depth=12,\n",
    "    l2_leaf_reg=1.0,\n",
    "    subsample=0.8, \n",
    "    colsample_bylevel=0.8,\n",
    "    loss_function='MAE',\n",
    "    eval_metric='MAE',\n",
    "    random_seed=42,\n",
    "    logging_level='Verbose',\n",
    "    thread_count=-1,\n",
    "    cat_features=cat_features\n",
    ")\n",
    "\n",
    "model.fit(\n",
    "    X_train, \n",
    "    y_train,\n",
    "    eval_set=[(X_val, y_val)],\n",
    "    early_stopping_rounds=100, # Early stopping\n",
    "    verbose=200                # Print progress every 200 iterations\n",
    ")\n",
    "\n",
    "print(f\"Model trained. Best iteration: {model.get_best_iteration()}\")\n",
    "print(\"Evaluating on unseen Test data...\")\n",
    "\n",
    "final_log_preds = model.predict(X_test)\n",
    "# Convert back to real currency\n",
    "final_y_test = np.expm1(y_test)\n",
    "final_preds = np.expm1(final_log_preds)\n",
    "\n",
    "final_dollar_mae = mean_absolute_error(final_y_test, final_preds)\n",
    "print(f\"Final Test MAE (Unbiased): ${final_dollar_mae:,.2f}\")"
   ]
  },
  {
   "cell_type": "code",
   "execution_count": null,
   "id": "51259901",
   "metadata": {},
   "outputs": [
    {
     "ename": "CatBoostError",
     "evalue": "Model has no meta information needed to calculate feature importances.                             Pass training dataset to this function.",
     "output_type": "error",
     "traceback": [
      "\u001b[31m---------------------------------------------------------------------------\u001b[39m",
      "\u001b[31mCatBoostError\u001b[39m                             Traceback (most recent call last)",
      "\u001b[36mCell\u001b[39m\u001b[36m \u001b[39m\u001b[32mIn[11]\u001b[39m\u001b[32m, line 2\u001b[39m\n\u001b[32m      1\u001b[39m \u001b[38;5;66;03m# Get feature importances\u001b[39;00m\n\u001b[32m----> \u001b[39m\u001b[32m2\u001b[39m importances = \u001b[43mmodel\u001b[49m\u001b[43m.\u001b[49m\u001b[43mget_feature_importance\u001b[49m\u001b[43m(\u001b[49m\u001b[43m)\u001b[49m\n\u001b[32m      3\u001b[39m feature_names = X_train.columns\n\u001b[32m      5\u001b[39m \u001b[38;5;66;03m# Create a DataFrame for easy sorting and plotting\u001b[39;00m\n",
      "\u001b[36mFile \u001b[39m\u001b[32m~/Programming/Personal-projects/Bit-project/bit-intro-assignment/.venv/lib/python3.12/site-packages/catboost/core.py:3238\u001b[39m, in \u001b[36mCatBoost.get_feature_importance\u001b[39m\u001b[34m(self, data, type, prettified, thread_count, verbose, fstr_type, shap_mode, model_output, interaction_indices, shap_calc_type, reference_data, sage_n_samples, sage_batch_size, sage_detect_convergence, log_cout, log_cerr)\u001b[39m\n\u001b[32m   3236\u001b[39m \u001b[38;5;28;01mif\u001b[39;00m data \u001b[38;5;129;01mis\u001b[39;00m \u001b[38;5;28;01mNone\u001b[39;00m:\n\u001b[32m   3237\u001b[39m     \u001b[38;5;28;01mif\u001b[39;00m need_meta_info:\n\u001b[32m-> \u001b[39m\u001b[32m3238\u001b[39m         \u001b[38;5;28;01mraise\u001b[39;00m CatBoostError(\n\u001b[32m   3239\u001b[39m             \u001b[33m\"\u001b[39m\u001b[33mModel has no meta information needed to calculate feature importances. \u001b[39m\u001b[38;5;130;01m\\\u001b[39;00m\n\u001b[32m   3240\u001b[39m \u001b[33m            Pass training dataset to this function.\u001b[39m\u001b[33m\"\u001b[39m)\n\u001b[32m   3241\u001b[39m     \u001b[38;5;28;01melse\u001b[39;00m:\n\u001b[32m   3242\u001b[39m         \u001b[38;5;28;01mraise\u001b[39;00m CatBoostError(\n\u001b[32m   3243\u001b[39m             \u001b[33m\"\u001b[39m\u001b[33mFeature importance type \u001b[39m\u001b[38;5;132;01m{}\u001b[39;00m\u001b[33m requires training dataset \u001b[39m\u001b[38;5;130;01m\\\u001b[39;00m\n\u001b[32m   3244\u001b[39m \u001b[33m            to be passed to this function.\u001b[39m\u001b[33m\"\u001b[39m.format(\u001b[38;5;28mtype\u001b[39m))\n",
      "\u001b[31mCatBoostError\u001b[39m: Model has no meta information needed to calculate feature importances.                             Pass training dataset to this function."
     ]
    }
   ],
   "source": [
    "\n",
    "# Get feature importances\n",
    "importances = model.get_feature_importance()\n",
    "feature_names = X_train.columns\n",
    "importance_df = pd.DataFrame({\n",
    "    'Feature': feature_names,\n",
    "    'Importance': importances\n",
    "})\n",
    "\n",
    "# Sort by importance\n",
    "importance_df = importance_df.sort_values(by='Importance', ascending=False)\n",
    "\n",
    "\n",
    "plt.figure(figsize=(12, 10))\n",
    "sns.barplot(\n",
    "    x='Importance',\n",
    "    y='Feature',\n",
    "    data=importance_df.head(25) # Plot the top 25 features\n",
    ")\n",
    "plt.title('Top 25 Feature Importances (CatBoost)')\n",
    "plt.xlabel('Importance')\n",
    "plt.ylabel('Feature')\n",
    "plt.tight_layout()\n",
    "\n",
    "plt.savefig('catboost_feature_importance.png')\n",
    "print(\"Successfully saved 'catboost_feature_importance.png'\")"
   ]
  }
 ],
 "metadata": {
  "kernelspec": {
   "display_name": ".venv",
   "language": "python",
   "name": "python3"
  },
  "language_info": {
   "codemirror_mode": {
    "name": "ipython",
    "version": 3
   },
   "file_extension": ".py",
   "mimetype": "text/x-python",
   "name": "python",
   "nbconvert_exporter": "python",
   "pygments_lexer": "ipython3",
   "version": "3.12.11"
  }
 },
 "nbformat": 4,
 "nbformat_minor": 5
}
