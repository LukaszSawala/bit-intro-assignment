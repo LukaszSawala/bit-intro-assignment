{
 "cells": [
  {
   "cell_type": "code",
   "execution_count": 1,
   "id": "a8f759c7",
   "metadata": {},
   "outputs": [
    {
     "name": "stderr",
     "output_type": "stream",
     "text": [
      "/Users/lukaszsawala/Programming/Personal-projects/Bit-project/bit-intro-assignment/.venv/lib/python3.12/site-packages/tqdm/auto.py:21: TqdmWarning: IProgress not found. Please update jupyter and ipywidgets. See https://ipywidgets.readthedocs.io/en/stable/user_install.html\n",
      "  from .autonotebook import tqdm as notebook_tqdm\n"
     ]
    }
   ],
   "source": [
    "import pandas as pd\n",
    "import numpy as np\n",
    "import optuna\n",
    "from catboost import CatBoostRegressor\n",
    "from sklearn.model_selection import train_test_split\n",
    "from sklearn.metrics import mean_absolute_error\n",
    "import matplotlib.pyplot as plt\n",
    "import seaborn as sns"
   ]
  },
  {
   "cell_type": "code",
   "execution_count": 6,
   "id": "8e912e93",
   "metadata": {},
   "outputs": [
    {
     "name": "stdout",
     "output_type": "stream",
     "text": [
      "Identified 37 categorical features.\n"
     ]
    }
   ],
   "source": [
    "# Load the dataset and preprocess\n",
    "df = pd.read_csv(\"data/processed/processed_v1.csv\", low_memory=False)\n",
    "for col in df.columns:\n",
    "        if df[col].dtype == 'object':\n",
    "            # 1. Fill NaNs with the string \"Missing\"\n",
    "            # 2. Convert the *entire* column to string dtype\n",
    "            df[col] = df[col].fillna(\"Missing\").astype(str) # <-- THE FIX\n",
    "\n",
    "X = df.drop('Sales Price', axis=1)\n",
    "y = df['Sales Price']\n",
    "\n",
    "# Now, we find 'object' dtypes (which are our strings)\n",
    "cat_features = X.select_dtypes(include=['object']).columns.tolist()\n",
    "print(f\"Identified {len(cat_features)} categorical features.\")"
   ]
  },
  {
   "cell_type": "code",
   "execution_count": 7,
   "id": "329deb67",
   "metadata": {},
   "outputs": [
    {
     "name": "stdout",
     "output_type": "stream",
     "text": [
      "Data successfully loaded and split.\n",
      "Total shape:    (412698, 44)\n",
      "Train shape:    (315713, 44)\n",
      "Validate shape: (55715, 44)\n",
      "Test shape:     (41270, 44)\n"
     ]
    }
   ],
   "source": [
    "# Split data\n",
    "X_train_val, X_test, y_train_val, y_test = train_test_split(\n",
    "    X, y, test_size=0.1, random_state=42\n",
    ")\n",
    "\n",
    "# Now, split (Train + Val) into Train and Val (e.g., 75% / 25% of the 80%)\n",
    "X_train, X_val, y_train, y_val = train_test_split(\n",
    "    X_train_val, y_train_val, test_size=0.15, random_state=42 \n",
    ")\n",
    "\n",
    "print(\"Data successfully loaded and split.\")\n",
    "print(f\"Total shape:    {X.shape}\")\n",
    "print(f\"Train shape:    {X_train.shape}\")\n",
    "print(f\"Validate shape: {X_val.shape}\")\n",
    "print(f\"Test shape:     {X_test.shape}\")"
   ]
  },
  {
   "cell_type": "code",
   "execution_count": null,
   "id": "07c0d720",
   "metadata": {},
   "outputs": [
    {
     "name": "stdout",
     "output_type": "stream",
     "text": [
      "0:\tlearn: 0.5519436\ttest: 0.5493496\tbest: 0.5493496 (0)\ttotal: 656ms\tremaining: 43m 42s\n",
      "200:\tlearn: 0.1746493\ttest: 0.1739192\tbest: 0.1739192 (200)\ttotal: 2m 1s\tremaining: 38m 11s\n",
      "400:\tlearn: 0.1606432\ttest: 0.1627949\tbest: 0.1627949 (400)\ttotal: 4m 47s\tremaining: 43m 3s\n"
     ]
    }
   ],
   "source": [
    "\n",
    "# Create the model\n",
    "model = CatBoostRegressor(\n",
    "    iterations=4000,          # High number, will be stopped early\n",
    "    learning_rate=0.05,\n",
    "    depth=10,\n",
    "    loss_function='MAE',\n",
    "    eval_metric='MAE',\n",
    "    random_seed=42,\n",
    "    logging_level='Verbose',\n",
    "    thread_count=-1,\n",
    "    cat_features=cat_features # Tell CatBoost about categories\n",
    ")\n",
    "\n",
    "# Train on the training set, validate on the validation set\n",
    "model.fit(\n",
    "    X_train, \n",
    "    y_train,\n",
    "    eval_set=[(X_val, y_val)],\n",
    "    early_stopping_rounds=100, # Stop if val_MAE doesn't improve\n",
    "    verbose=200                # Print progress every 200 iterations\n",
    ")\n",
    "\n",
    "print(f\"Model trained. Best iteration: {model.get_best_iteration()}\")\n",
    "print(\"Evaluating on unseen Test data...\")\n",
    "\n",
    "# Score on the unseen test set\n",
    "final_log_preds = model.predict(X_test)\n",
    "\n",
    "# Convert back to real dollars\n",
    "final_y_test = np.expm1(y_test)\n",
    "final_preds = np.expm1(final_log_preds)\n",
    "\n",
    "final_dollar_mae = mean_absolute_error(final_y_test, final_preds)\n",
    "print(f\"Final Test MAE (Unbiased): ${final_dollar_mae:,.2f}\")"
   ]
  },
  {
   "cell_type": "code",
   "execution_count": null,
   "id": "51259901",
   "metadata": {},
   "outputs": [],
   "source": [
    "\n",
    "# Get feature importances\n",
    "importances = model.get_feature_importance()\n",
    "feature_names = X_train.columns\n",
    "\n",
    "# Create a DataFrame for easy sorting and plotting\n",
    "importance_df = pd.DataFrame({\n",
    "    'Feature': feature_names,\n",
    "    'Importance': importances\n",
    "})\n",
    "\n",
    "# Sort by importance (most important first)\n",
    "importance_df = importance_df.sort_values(by='Importance', ascending=False)\n",
    "\n",
    "# --- Plot the Top 25 Most Important Features ---\n",
    "plt.figure(figsize=(12, 10))\n",
    "sns.barplot(\n",
    "    x='Importance',\n",
    "    y='Feature',\n",
    "    data=importance_df.head(25) # Plot the top 25\n",
    ")\n",
    "plt.title('Top 25 Feature Importances (CatBoost)')\n",
    "plt.xlabel('Importance')\n",
    "plt.ylabel('Feature')\n",
    "plt.tight_layout() # Adjust layout to prevent label overlap\n",
    "\n",
    "plt.savefig('catboost_feature_importance.png')\n",
    "print(\"Successfully saved 'catboost_feature_importance.png'\")"
   ]
  }
 ],
 "metadata": {
  "kernelspec": {
   "display_name": ".venv",
   "language": "python",
   "name": "python3"
  },
  "language_info": {
   "codemirror_mode": {
    "name": "ipython",
    "version": 3
   },
   "file_extension": ".py",
   "mimetype": "text/x-python",
   "name": "python",
   "nbconvert_exporter": "python",
   "pygments_lexer": "ipython3",
   "version": "3.12.11"
  }
 },
 "nbformat": 4,
 "nbformat_minor": 5
}
