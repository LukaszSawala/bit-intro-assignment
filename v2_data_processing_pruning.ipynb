{
 "cells": [
  {
   "cell_type": "markdown",
   "id": "c66e8115",
   "metadata": {},
   "source": [
    "## This file contains some of my failed attemps of further preprocessing, and could be used as a starting point for the future - for now, it should be omitted."
   ]
  },
  {
   "cell_type": "code",
   "execution_count": 2,
   "id": "a41823e8",
   "metadata": {},
   "outputs": [
    {
     "name": "stdout",
     "output_type": "stream",
     "text": [
      "(412698, 45)\n"
     ]
    },
    {
     "name": "stderr",
     "output_type": "stream",
     "text": [
      "/var/folders/pj/kpd4vj4j6_b_l77b3ry75hp40000gn/T/ipykernel_49058/1232175854.py:6: DtypeWarning: Columns (10,29,30,31) have mixed types. Specify dtype option on import or set low_memory=False.\n",
      "  raw_data = pd.read_csv('data/processed/processedv1.csv')  # Placeholder for actual data loading\n"
     ]
    }
   ],
   "source": [
    "import pandas as pd\n",
    "import numpy as np\n",
    "import xgboost as xgb\n",
    "import matplotlib.pyplot as plt\n",
    "\n",
    "raw_data = pd.read_csv('data/processed/processedv1.csv')  # Placeholder for actual data loading\n",
    "print(raw_data.shape)"
   ]
  },
  {
   "cell_type": "code",
   "execution_count": 10,
   "id": "149303a5",
   "metadata": {},
   "outputs": [
    {
     "name": "stdout",
     "output_type": "stream",
     "text": [
      "Missing values per column (ranked) (%):\n",
      " Hydraulics Flow              0.891264\n",
      "Grouser Tracks               0.891264\n",
      "Couple System                0.891024\n",
      "Model Series                 0.857845\n",
      "Steering Controls            0.826697\n",
      "Differential Type            0.826595\n",
      "Usage Band                   0.821492\n",
      "Model Descriptor             0.818715\n",
      "Backhoe Mounting             0.804428\n",
      "Turbo Charged                0.803498\n",
      "Version                      0.803498\n",
      "Touchpad Type                0.803498\n",
      "Blade Type                   0.801610\n",
      "Travel Possibilities         0.801606\n",
      "Screen Size                  0.763415\n",
      "Grouser Type                 0.752378\n",
      "Tupper Type                  0.752378\n",
      "Pattern Changer              0.752213\n",
      "Stick Length                 0.752213\n",
      "Thumb                        0.752041\n",
      "Screen Size.1                0.750626\n",
      "Ripper                       0.740864\n",
      "Driver System                0.740520\n",
      "MachineHours CurrentMeter    0.642586\n",
      "Control Type                 0.629928\n",
      "Transmission                 0.544444\n",
      "Machine Size                 0.524851\n",
      "Control                      0.520921\n",
      "Coupler                      0.465277\n",
      "Secondary Description        0.340993\n",
      "Hydraulics                   0.200062\n",
      "AgeOfMachine                 0.095448\n",
      "Year Made                    0.095448\n",
      "Auctioneer ID                0.048791\n",
      "Enclosure                    0.000809\n",
      "dtype: float64\n",
      "percentage of rows with a missing value: 1.0\n"
     ]
    }
   ],
   "source": [
    "#similar analysis:\n",
    "null_values_percentages = raw_data.isnull().sum()/412698 \n",
    "null_values_nonzero = null_values_percentages[null_values_percentages > 0]\n",
    "print(\"Missing values per column (ranked) (%):\\n\", null_values_nonzero.sort_values(ascending=False))\n",
    "print(\"percentage of rows with a missing value:\", (raw_data.isnull().any(axis=1).sum())/412698)"
   ]
  },
  {
   "cell_type": "code",
   "execution_count": null,
   "id": "a139e94b",
   "metadata": {},
   "outputs": [],
   "source": [
    "binary_categorical = [] # fill them with nans? doesnt work - dropped for now"
   ]
  },
  {
   "cell_type": "code",
   "execution_count": 3,
   "id": "c257ec69",
   "metadata": {},
   "outputs": [
    {
     "name": "stdout",
     "output_type": "stream",
     "text": [
      "Encoding all categorical columns...\n",
      "Fitting model (Pass 1) to find useless features...\n",
      "R^2 Score (Pass 1): 0.91603\n",
      "\n",
      "Found 3 useless features (Importance < 0.001):\n",
      "['Turbo Charged', 'Couple System', 'Grouser Tracks']\n",
      "\n",
      "Re-training model (Pass 2) after dropping useless features...\n",
      "R^2 Score (Pass 2, Pruned): 0.89570\n"
     ]
    }
   ],
   "source": [
    "import pandas as pd\n",
    "import numpy as np\n",
    "import xgboost as xgb\n",
    "from sklearn.metrics import r2_score\n",
    "\n",
    "# --- 1. Load Your Processed Data ---\n",
    "df = raw_data.copy()\n",
    "\n",
    "# --- 2. Apply Your Best Encoding Strategy ---\n",
    "# This is the 'simple' way that gave you R^2 = 0.895\n",
    "print(\"Encoding all categorical columns...\")\n",
    "for col in df.select_dtypes(include=['object']).columns: # change into numerics\n",
    "    df[col] = df[col].astype('category').cat.codes\n",
    "\n",
    "\n",
    "X_train = df.drop('Sales Price', axis=1)\n",
    "y_train = df['Sales Price']\n",
    "\n",
    "# --- 4. Train the Model (First Pass) ---\n",
    "print(\"Fitting model (Pass 1) to find useless features...\")\n",
    "xgb_reg = xgb.XGBRegressor(n_estimators=300, random_state=42, n_jobs=-1)\n",
    "xgb_reg.fit(X_train, y_train)\n",
    "\n",
    "# Get R^2 score to confirm\n",
    "preds = xgb_reg.predict(X_train)\n",
    "score_pass_1 = r2_score(y_train, preds)\n",
    "print(f\"R^2 Score (Pass 1): {score_pass_1:.5f}\")\n",
    "\n",
    "# --- 5. Find Features with Zero Importance ---\n",
    "importances = xgb_reg.feature_importances_\n",
    "feature_names = X_train.columns\n",
    "importance_df = pd.DataFrame({'Feature': feature_names, 'Importance': importances})\n",
    "\n",
    "# Get the list of useless features\n",
    "useless_features = importance_df[importance_df['Importance'] < 0.001]['Feature'].tolist()\n",
    "\n",
    "if useless_features:\n",
    "    print(f\"\\nFound {len(useless_features)} useless features (Importance < 0.001):\")\n",
    "    print(useless_features)\n",
    "else:\n",
    "    print(\"\\nNo features found with zero importance.\")\n",
    "\n",
    "# --- 6. Test: Re-train Model WITHOUT Useless Features ---\n",
    "if useless_features:\n",
    "    print(\"\\nRe-training model (Pass 2) after dropping useless features...\")\n",
    "    \n",
    "    # Drop these features from both train and valid sets\n",
    "    X_train_pruned = X_train.drop(columns=useless_features)\n",
    "    \n",
    "    xgb_reg_pruned = xgb.XGBRegressor(n_estimators=100, random_state=42, n_jobs=-1)\n",
    "    xgb_reg_pruned.fit(X_train_pruned, y_train)\n",
    "    \n",
    "    # Get the new score\n",
    "    preds_pruned = xgb_reg_pruned.predict(X_train_pruned)\n",
    "    score_pass_2 = r2_score(y_train, preds_pruned)\n",
    "    \n",
    "    print(f\"R^2 Score (Pass 2, Pruned): {score_pass_2:.5f}\")"
   ]
  }
 ],
 "metadata": {
  "kernelspec": {
   "display_name": ".venv",
   "language": "python",
   "name": "python3"
  },
  "language_info": {
   "codemirror_mode": {
    "name": "ipython",
    "version": 3
   },
   "file_extension": ".py",
   "mimetype": "text/x-python",
   "name": "python",
   "nbconvert_exporter": "python",
   "pygments_lexer": "ipython3",
   "version": "3.12.11"
  }
 },
 "nbformat": 4,
 "nbformat_minor": 5
}
