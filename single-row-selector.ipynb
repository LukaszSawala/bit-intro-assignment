{
 "cells": [
  {
   "cell_type": "markdown",
   "id": "c2cedd72",
   "metadata": {},
   "source": [
    "**Pick a random row from our datased and save it in a seperate .csv, used to demonstrate inference**"
   ]
  },
  {
   "cell_type": "code",
   "execution_count": 3,
   "id": "7ec823d6",
   "metadata": {},
   "outputs": [
    {
     "name": "stdout",
     "output_type": "stream",
     "text": [
      "Selected random row (index 148588):\n",
      "                                                      148588\n",
      "Sales_Price                                         9.952325\n",
      "Model_ID                                                4199\n",
      "datasource                                               132\n",
      "Auctioneer_ID                                            2.0\n",
      "Year_Made                                             1988.0\n",
      "MachineHours_CurrentMeter                                NaN\n",
      "Usage_Band                                               NaN\n",
      "Model_Description                                      E110B\n",
      "Base_Model                                              E110\n",
      "Secondary_Description                                      B\n",
      "Model_Series                                             NaN\n",
      "Model_Descriptor                                         NaN\n",
      "Machine_Size                                           Small\n",
      "Product_Class_Description  Type C - 11.0 to 12.0 Metric Tons\n",
      "State_of_Usage                                      New York\n",
      "Product_Group                                            TEX\n",
      "Product_Group_Description                                 UK\n",
      "Driver_System                                            NaN\n",
      "Enclosure                                              EROPS\n",
      "Control                                                  NaN\n",
      "Touchpad_Type                                            NaN\n",
      "Control_Type                                             NaN\n",
      "Version                                                  NaN\n",
      "Transmission                                             NaN\n",
      "Turbo_Charged                                            NaN\n",
      "Hydraulics                                          Standard\n",
      "Ripper                                                   NaN\n",
      "Screen_Size                                              NaN\n",
      "Coupler                                  None or Unspecified\n",
      "Couple_System                                            NaN\n",
      "Grouser_Tracks                                           NaN\n",
      "Hydraulics_Flow                                          NaN\n",
      "Tupper_Type                                            Steel\n",
      "Screen_Size.1                                        20 inch\n",
      "Stick_Length                             None or Unspecified\n",
      "Thumb                                    None or Unspecified\n",
      "Pattern_Changer                          None or Unspecified\n",
      "Grouser_Type                                          Double\n",
      "Backhoe_Mounting                                         NaN\n",
      "Blade_Type                                               NaN\n",
      "Travel_Possibilities                                     NaN\n",
      "Differential_Type                                        NaN\n",
      "Steering_Controls                                        NaN\n",
      "SalesYear                                               2001\n",
      "AgeOfMachine                                            13.0\n"
     ]
    }
   ],
   "source": [
    "import pandas as pd\n",
    "import os\n",
    "\n",
    "source = \"data/processed/processed_v1.csv\"\n",
    "output = \"data/inference/test_row.csv\" \n",
    "\n",
    "os.makedirs(os.path.dirname(output), exist_ok=True)\n",
    "df = pd.read_csv(source, low_memory=False)\n",
    "\n",
    "# Select one random row\n",
    "random_row = df.sample(n=1, random_state=42)\n",
    "\n",
    "original_columns = random_row.columns\n",
    "# Create new 'snake_case' columns (e.g., \"Year_Made\")\n",
    "new_columns = [col.replace(' ', '_') for col in original_columns]\n",
    "# Assign the new column names to the DataFrame to match the expected inputs\n",
    "random_row.columns = new_columns\n",
    "\n",
    "print(f\"Selected random row (index {random_row.index[0]}):\")\n",
    "print(random_row.T)\n",
    "\n",
    "# Save the single row to a new CSV\n",
    "random_row.to_csv(output, index=False)\n"
   ]
  }
 ],
 "metadata": {
  "kernelspec": {
   "display_name": ".venv",
   "language": "python",
   "name": "python3"
  },
  "language_info": {
   "codemirror_mode": {
    "name": "ipython",
    "version": 3
   },
   "file_extension": ".py",
   "mimetype": "text/x-python",
   "name": "python",
   "nbconvert_exporter": "python",
   "pygments_lexer": "ipython3",
   "version": "3.12.11"
  }
 },
 "nbformat": 4,
 "nbformat_minor": 5
}
