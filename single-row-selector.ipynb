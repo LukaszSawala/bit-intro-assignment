{
 "cells": [
  {
   "cell_type": "markdown",
   "id": "c2cedd72",
   "metadata": {},
   "source": [
    "**Pick a random row from our datased and save it in a seperate .csv, used to demonstrate inference**"
   ]
  },
  {
   "cell_type": "code",
   "execution_count": 2,
   "id": "7ec823d6",
   "metadata": {},
   "outputs": [
    {
     "name": "stdout",
     "output_type": "stream",
     "text": [
      "Selected random row (index 148588):\n",
      "                                                      148588\n",
      "Sales Price                                         9.952325\n",
      "Model ID                                                4199\n",
      "datasource                                               132\n",
      "Auctioneer ID                                            2.0\n",
      "Year Made                                             1988.0\n",
      "MachineHours CurrentMeter                                NaN\n",
      "Usage Band                                               NaN\n",
      "Model Description                                      E110B\n",
      "Base Model                                              E110\n",
      "Secondary Description                                      B\n",
      "Model Series                                             NaN\n",
      "Model Descriptor                                         NaN\n",
      "Machine Size                                           Small\n",
      "Product Class Description  Type C - 11.0 to 12.0 Metric Tons\n",
      "State of Usage                                      New York\n",
      "Product Group                                            TEX\n",
      "Product Group Description                                 UK\n",
      "Driver System                                            NaN\n",
      "Enclosure                                              EROPS\n",
      "Control                                                  NaN\n",
      "Touchpad Type                                            NaN\n",
      "Control Type                                             NaN\n",
      "Version                                                  NaN\n",
      "Transmission                                             NaN\n",
      "Turbo Charged                                            NaN\n",
      "Hydraulics                                          Standard\n",
      "Ripper                                                   NaN\n",
      "Screen Size                                              NaN\n",
      "Coupler                                  None or Unspecified\n",
      "Couple System                                            NaN\n",
      "Grouser Tracks                                           NaN\n",
      "Hydraulics Flow                                          NaN\n",
      "Tupper Type                                            Steel\n",
      "Screen Size.1                                        20 inch\n",
      "Stick Length                             None or Unspecified\n",
      "Thumb                                    None or Unspecified\n",
      "Pattern Changer                          None or Unspecified\n",
      "Grouser Type                                          Double\n",
      "Backhoe Mounting                                         NaN\n",
      "Blade Type                                               NaN\n",
      "Travel Possibilities                                     NaN\n",
      "Differential Type                                        NaN\n",
      "Steering Controls                                        NaN\n",
      "SalesYear                                               2001\n",
      "AgeOfMachine                                            13.0\n"
     ]
    }
   ],
   "source": [
    "import pandas as pd\n",
    "import os\n",
    "\n",
    "source = \"data/processed/processed_v1.csv\"\n",
    "output = \"data/inference/test_row.csv\" \n",
    "\n",
    "os.makedirs(os.path.dirname(output), exist_ok=True)\n",
    "df = pd.read_csv(source, low_memory=False)\n",
    "\n",
    "# Select one random row\n",
    "random_row = df.sample(n=1, random_state=42)\n",
    "print(f\"Selected random row (index {random_row.index[0]}):\")\n",
    "print(random_row.T)\n",
    "\n",
    "# Save the single row to a new CSV\n",
    "random_row.to_csv(output, index=False)\n"
   ]
  }
 ],
 "metadata": {
  "kernelspec": {
   "display_name": ".venv",
   "language": "python",
   "name": "python3"
  },
  "language_info": {
   "codemirror_mode": {
    "name": "ipython",
    "version": 3
   },
   "file_extension": ".py",
   "mimetype": "text/x-python",
   "name": "python",
   "nbconvert_exporter": "python",
   "pygments_lexer": "ipython3",
   "version": "3.12.11"
  }
 },
 "nbformat": 4,
 "nbformat_minor": 5
}
